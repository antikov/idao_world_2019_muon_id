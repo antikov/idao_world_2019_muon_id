{
 "cells": [
  {
   "cell_type": "code",
   "execution_count": null,
   "metadata": {},
   "outputs": [],
   "source": [
    "import numpy as np\n",
    "import pandas as pd\n",
    "import utils\n",
    "import scoring\n",
    "import catboost\n",
    "from sklearn.model_selection import StratifiedKFold, KFold"
   ]
  },
  {
   "cell_type": "markdown",
   "metadata": {},
   "source": [
    "## part 1"
   ]
  },
  {
   "cell_type": "code",
   "execution_count": null,
   "metadata": {},
   "outputs": [],
   "source": [
    "full_train = pd.read_csv(\"data/train_part_1_v2.csv\", dtype=utils.DTYPES, index_col='id')"
   ]
  },
  {
   "cell_type": "code",
   "execution_count": null,
   "metadata": {},
   "outputs": [],
   "source": [
    "closest_hits_features = pd.read_csv('more_features_fixed_part_1.csv',dtype=np.float32)"
   ]
  },
  {
   "cell_type": "code",
   "execution_count": null,
   "metadata": {},
   "outputs": [],
   "source": [
    "train_concat = pd.concat(\n",
    "    [full_train.loc[:, utils.SIMPLE_FEATURE_COLUMNS],\n",
    "     closest_hits_features], axis=1)"
   ]
  },
  {
   "cell_type": "markdown",
   "metadata": {},
   "source": [
    "## part 2"
   ]
  },
  {
   "cell_type": "code",
   "execution_count": null,
   "metadata": {},
   "outputs": [],
   "source": [
    "full_train2 = pd.read_csv(\"data/train_part_2_v2.csv\", dtype=utils.DTYPES, index_col='id')"
   ]
  },
  {
   "cell_type": "code",
   "execution_count": null,
   "metadata": {},
   "outputs": [],
   "source": [
    "closest_hits_features2 = pd.read_csv('more_features_fixed_part_2.csv',dtype=np.float32)"
   ]
  },
  {
   "cell_type": "code",
   "execution_count": null,
   "metadata": {},
   "outputs": [],
   "source": [
    "#fix indexes\n",
    "a = closest_hits_features2.index.tolist()\n",
    "a = list(np.array(a) + 2722852)\n",
    "closest_hits_features2.index = a"
   ]
  },
  {
   "cell_type": "code",
   "execution_count": null,
   "metadata": {},
   "outputs": [],
   "source": [
    "train_concat2 = pd.concat(\n",
    "    [full_train2.loc[:, utils.SIMPLE_FEATURE_COLUMNS],\n",
    "     closest_hits_features2], axis=1)"
   ]
  },
  {
   "cell_type": "markdown",
   "metadata": {},
   "source": [
    "## concat train data"
   ]
  },
  {
   "cell_type": "code",
   "execution_count": null,
   "metadata": {},
   "outputs": [],
   "source": [
    "train_concat = pd.concat([train_concat, train_concat2], axis=0)"
   ]
  },
  {
   "cell_type": "code",
   "execution_count": null,
   "metadata": {},
   "outputs": [],
   "source": [
    "train_concat.shape"
   ]
  },
  {
   "cell_type": "markdown",
   "metadata": {},
   "source": [
    "## additional features"
   ]
  },
  {
   "cell_type": "code",
   "execution_count": null,
   "metadata": {},
   "outputs": [],
   "source": [
    "for i in range(4):\n",
    "    train_concat[f'plastina_{i}'] = np.sqrt(train_concat[f'MatchedHit_X[{i}]'] ** 2 + train_concat[f'MatchedHit_Y[{i}]'] ** 2 + train_concat[f'MatchedHit_Z[{i}]']**2)"
   ]
  },
  {
   "cell_type": "code",
   "execution_count": null,
   "metadata": {},
   "outputs": [],
   "source": [
    "for i in range(4):\n",
    "    train_concat.loc[(train_concat[f'MatchedHit_X[{i}]']==-9999)|(train_concat[f'MatchedHit_Y[{i}]']==-9999)|(train_concat[f'MatchedHit_Z[{i}]']==-9999),f'plastina_{i}'] = -9999"
   ]
  },
  {
   "cell_type": "code",
   "execution_count": null,
   "metadata": {},
   "outputs": [],
   "source": [
    "for i in range(8):\n",
    "    train_concat[f'arr_{i}'] = train_concat[f'{i}'] / train_concat[f'{16+i}']**2"
   ]
  },
  {
   "cell_type": "code",
   "execution_count": null,
   "metadata": {},
   "outputs": [],
   "source": [
    "train_concat['angle'] = np.arccos(train_concat['PT'] / train_concat['P'])"
   ]
  },
  {
   "cell_type": "code",
   "execution_count": null,
   "metadata": {},
   "outputs": [],
   "source": [
    "for i in range(4):\n",
    "    train_concat[f'size_clusters_{i}']=train_concat[f'ncl[{i}]']*train_concat[f'avg_cs[{i}]']"
   ]
  },
  {
   "cell_type": "code",
   "execution_count": null,
   "metadata": {},
   "outputs": [],
   "source": [
    "for i in range(4):\n",
    "    train_concat[f'v_{i}'] = train_concat[f'plastina_{i}'] / train_concat[f'MatchedHit_T[{i}]']"
   ]
  },
  {
   "cell_type": "markdown",
   "metadata": {},
   "source": [
    "## pretrain work"
   ]
  },
  {
   "cell_type": "code",
   "execution_count": null,
   "metadata": {},
   "outputs": [],
   "source": [
    "labels = pd.concat([full_train.label, full_train2.label], axis=0)"
   ]
  },
  {
   "cell_type": "code",
   "execution_count": null,
   "metadata": {},
   "outputs": [],
   "source": [
    "weights = pd.concat([full_train.weight, full_train2.weight],axis=0)"
   ]
  },
  {
   "cell_type": "code",
   "execution_count": null,
   "metadata": {},
   "outputs": [],
   "source": [
    "def wrapper(value):\n",
    "    if value < 0:\n",
    "        value = 0\n",
    "    return value\n",
    "abs_weights = weights.apply(wrapper)"
   ]
  },
  {
   "cell_type": "markdown",
   "metadata": {},
   "source": [
    "## train catboost model mix"
   ]
  },
  {
   "cell_type": "code",
   "execution_count": null,
   "metadata": {},
   "outputs": [],
   "source": [
    "folds = StratifiedKFold(n_splits=5,shuffle=True,random_state=12)"
   ]
  },
  {
   "cell_type": "code",
   "execution_count": null,
   "metadata": {},
   "outputs": [],
   "source": [
    "model = catboost.CatBoostClassifier(loss_function='Logloss',\n",
    "                                    l2_leaf_reg=20,\n",
    "                                    border_count=200,\n",
    "                                    max_depth=5,\n",
    "                                    bootstrap_type='No', \n",
    "                                    random_strength=0, \n",
    "                                    iterations=3500, \n",
    "                                    learning_rate=0.05, \n",
    "                                    verbose=False,\n",
    "                                    thread_count=4, \n",
    "                                    task_type='GPU', \n",
    "                                    random_state=12,\n",
    "                                    rsm=1,\n",
    ")"
   ]
  },
  {
   "cell_type": "code",
   "execution_count": null,
   "metadata": {},
   "outputs": [],
   "source": [
    "scores = []\n",
    "for index, (trn_idx, val_idx) in enumerate(folds.split(train_concat.values,labels)):\n",
    "    model.fit(train_concat.loc[trn_idx], labels[trn_idx], sample_weight=abs_weights[trn_idx], plot=True)\n",
    "    validation_predictions = model.predict_proba(train_concat.loc[val_idx].values)[:, 1]\n",
    "    scores.append(scoring.rejection90(labels[val_idx].values, validation_predictions, sample_weight=weights[val_idx].values))\n",
    "    model.save_model(f'fold_{index}.cbm')"
   ]
  },
  {
   "cell_type": "code",
   "execution_count": null,
   "metadata": {},
   "outputs": [],
   "source": [
    "scores"
   ]
  }
 ],
 "metadata": {
  "kernelspec": {
   "display_name": "Python 3",
   "language": "python",
   "name": "python3"
  },
  "language_info": {
   "codemirror_mode": {
    "name": "ipython",
    "version": 3
   },
   "file_extension": ".py",
   "mimetype": "text/x-python",
   "name": "python",
   "nbconvert_exporter": "python",
   "pygments_lexer": "ipython3",
   "version": "3.6.6"
  }
 },
 "nbformat": 4,
 "nbformat_minor": 2
}
