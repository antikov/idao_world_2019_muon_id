{
 "cells": [
  {
   "cell_type": "code",
   "execution_count": null,
   "metadata": {},
   "outputs": [],
   "source": [
    "import numpy as np\n",
    "import pandas as pd\n",
    "import swifter\n",
    "import utils"
   ]
  },
  {
   "cell_type": "markdown",
   "metadata": {},
   "source": [
    "# preprocess"
   ]
  },
  {
   "cell_type": "code",
   "execution_count": null,
   "metadata": {},
   "outputs": [],
   "source": [
    "fin_list = [\n",
    "    'data/train_part_1_v2.csv', \n",
    "    'data/train_part_2_v2.csv',\n",
    "    'data/test_public_v2.csv',\n",
    "    'data/test_private_v3_track_1.csv',\n",
    "]"
   ]
  },
  {
   "cell_type": "code",
   "execution_count": null,
   "metadata": {},
   "outputs": [],
   "source": [
    "fout_list = [\n",
    "    'more_features_fixed_part_1.csv',\n",
    "    'more_features_fixed_part_2.csv',\n",
    "    'more_features_fixed_test.csv',\n",
    "    'more_features_fixed_test_private.csv',\n",
    "]"
   ]
  },
  {
   "cell_type": "code",
   "execution_count": null,
   "metadata": {},
   "outputs": [],
   "source": [
    "assert len(fin_list) == len(fout_list)"
   ]
  },
  {
   "cell_type": "code",
   "execution_count": null,
   "metadata": {},
   "outputs": [],
   "source": [
    "def wrapper1(text):\n",
    "    return np.array(text[1:-1].strip().split(), dtype=np.int8)"
   ]
  },
  {
   "cell_type": "code",
   "execution_count": null,
   "metadata": {},
   "outputs": [],
   "source": [
    "def wrapper2(text):\n",
    "    return np.array(text[1:-1].strip().split(), dtype=np.float32)"
   ]
  },
  {
   "cell_type": "code",
   "execution_count": null,
   "metadata": {},
   "outputs": [],
   "source": [
    "for index in range(len(fin_list)):\n",
    "    fin = fin_list[index]\n",
    "    fout = fout_list[index]\n",
    "    \n",
    "    full_train = pd.read_csv(fin, dtype=utils.DTYPES, index_col='id')\n",
    "    \n",
    "    columns = ['FOI_hits_S', 'FOI_hits_T','FOI_hits_DT']\n",
    "    for column in columns:\n",
    "        full_train[column] = full_train[column].apply(wrapper1)\n",
    "    \n",
    "    columns = ['FOI_hits_X', 'FOI_hits_Y','FOI_hits_Z','FOI_hits_DX','FOI_hits_DY','FOI_hits_DZ']\n",
    "    for column in columns:\n",
    "        full_train[column] = full_train[column].apply(wrapper2)\n",
    "        \n",
    "    closest_hits_features = full_train.swifter.apply(\n",
    "        utils.find_closest_hit_per_station, result_type=\"expand\", axis=1)\n",
    "    \n",
    "    closest_hits_features.to_csv(fout,index=False)"
   ]
  },
  {
   "cell_type": "code",
   "execution_count": null,
   "metadata": {},
   "outputs": [],
   "source": []
  }
 ],
 "metadata": {
  "kernelspec": {
   "display_name": "Python 3",
   "language": "python",
   "name": "python3"
  },
  "language_info": {
   "codemirror_mode": {
    "name": "ipython",
    "version": 3
   },
   "file_extension": ".py",
   "mimetype": "text/x-python",
   "name": "python",
   "nbconvert_exporter": "python",
   "pygments_lexer": "ipython3",
   "version": "3.6.6"
  }
 },
 "nbformat": 4,
 "nbformat_minor": 2
}
